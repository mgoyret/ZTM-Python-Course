{
 "cells": [
  {
   "cell_type": "markdown",
   "id": "3685f8dc",
   "metadata": {},
   "source": [
    "Vamos a armar algo que detecra la flor iris"
   ]
  },
  {
   "cell_type": "markdown",
   "id": "c9c54e20",
   "metadata": {},
   "source": [
    "# 1. IMPORT DATA"
   ]
  },
  {
   "cell_type": "code",
   "execution_count": 2,
   "id": "d90c81a9",
   "metadata": {},
   "outputs": [],
   "source": [
    "from sklearn.datasets import load_iris\n",
    "iris=load_iris()"
   ]
  },
  {
   "cell_type": "code",
   "execution_count": 5,
   "id": "ca028aa6",
   "metadata": {},
   "outputs": [],
   "source": [
    "X=iris.data\n",
    "Y=iris.target"
   ]
  },
  {
   "cell_type": "markdown",
   "id": "40c3be6a",
   "metadata": {},
   "source": [
    "en target, 0, 1 y 2 son los 3 tipos de flor iris.\n",
    "Lo que buscamos es una f(x) tal que f(X)=Y con cada valor como corresponda"
   ]
  },
  {
   "cell_type": "code",
   "execution_count": 6,
   "id": "351ec42c",
   "metadata": {},
   "outputs": [
    {
     "data": {
      "text/plain": [
       "['sepal length (cm)',\n",
       " 'sepal width (cm)',\n",
       " 'petal length (cm)',\n",
       " 'petal width (cm)']"
      ]
     },
     "execution_count": 6,
     "metadata": {},
     "output_type": "execute_result"
    }
   ],
   "source": [
    "feature_names = iris.feature_names\n",
    "target_names = iris.target_names\n",
    "feature_names"
   ]
  },
  {
   "cell_type": "code",
   "execution_count": 7,
   "id": "e549d3d0",
   "metadata": {},
   "outputs": [
    {
     "data": {
      "text/plain": [
       "array(['setosa', 'versicolor', 'virginica'], dtype='<U10')"
      ]
     },
     "execution_count": 7,
     "metadata": {},
     "output_type": "execute_result"
    }
   ],
   "source": [
    "target_names"
   ]
  },
  {
   "cell_type": "markdown",
   "id": "a0864bf6",
   "metadata": {},
   "source": [
    "# 2. CLEAN DATA (N/A)"
   ]
  },
  {
   "cell_type": "markdown",
   "id": "05175d89",
   "metadata": {},
   "source": [
    "# 3. SPLIT DATA TRAINING_SET/TEST_SET"
   ]
  },
  {
   "cell_type": "markdown",
   "id": "a45d3ee4",
   "metadata": {},
   "source": [
    "Como sabemos, de un data set, usamos una parte para training, y la otra para probar el sistema. La siguiente funcion nos separa aleatoriamente los datos, pero elegimos que porcentaje va a test y cual a train"
   ]
  },
  {
   "cell_type": "code",
   "execution_count": 13,
   "id": "37ab4ae9",
   "metadata": {},
   "outputs": [
    {
     "name": "stdout",
     "output_type": "stream",
     "text": [
      "(150, 4) (90, 4) (60, 4)\n",
      "(150,) (90,) (60,)\n"
     ]
    }
   ],
   "source": [
    "from sklearn.model_selection import train_test_split\n",
    "X_train, X_test, Y_train, Y_test = train_test_split(X, Y, test_size=0.4)\n",
    "print(X.shape, X_train.shape, X_test.shape)\n",
    "print(Y.shape, Y_train.shape, Y_test.shape)"
   ]
  },
  {
   "cell_type": "markdown",
   "id": "bef23b43",
   "metadata": {},
   "source": [
    "# 4. CREATE MODEL"
   ]
  },
  {
   "cell_type": "code",
   "execution_count": 16,
   "id": "0a666179",
   "metadata": {},
   "outputs": [
    {
     "data": {
      "text/plain": [
       "KNeighborsClassifier(n_neighbors=3)"
      ]
     },
     "execution_count": 16,
     "metadata": {},
     "output_type": "execute_result"
    }
   ],
   "source": [
    "from sklearn.neighbors import KNeighborsClassifier\n",
    "# hay muchos modelos, usamos el nearest neighbor\n",
    "# https://scikit-learn.org/stable/modules/neighbors.html\n",
    "knn = KNeighborsClassifier(n_neighbors=3) #hay 3 tipos de flores\n",
    "knn.fit(X_train, Y_train)"
   ]
  },
  {
   "cell_type": "markdown",
   "id": "f4948c24",
   "metadata": {},
   "source": [
    "# 5. CHECK OUTPUT"
   ]
  },
  {
   "cell_type": "code",
   "execution_count": 20,
   "id": "00c151be",
   "metadata": {},
   "outputs": [
    {
     "data": {
      "text/plain": [
       "0.9666666666666667"
      ]
     },
     "execution_count": 20,
     "metadata": {},
     "output_type": "execute_result"
    }
   ],
   "source": [
    "Y_pred = knn.predict(X_test)\n",
    "#ahora comparar las y predecidas usando las X test con el modelo creado, con las Y reales TEST\n",
    "from sklearn import metrics\n",
    "metrics.accuracy_score(Y_test, Y_pred)"
   ]
  },
  {
   "cell_type": "markdown",
   "id": "a985a3ad",
   "metadata": {},
   "source": [
    "# 6. IMPROVE MODEL"
   ]
  },
  {
   "cell_type": "markdown",
   "id": "7c119440",
   "metadata": {},
   "source": [
    "para esto habria que probar como aumentar el accuracy. Tal vez usar otro tipo de modelo, chequear el numero de neighbors, modificar la relacion test/train, etc."
   ]
  },
  {
   "cell_type": "markdown",
   "id": "3cd58f10",
   "metadata": {},
   "source": [
    "# Ingresando variable desconocida"
   ]
  },
  {
   "cell_type": "code",
   "execution_count": 23,
   "id": "49667bf9",
   "metadata": {},
   "outputs": [
    {
     "name": "stdout",
     "output_type": "stream",
     "text": [
      "predictions:  ['versicolor', 'virginica']\n"
     ]
    }
   ],
   "source": [
    "sample = [[3,5,4,2], [2,3,5,4]]\n",
    "predictions = knn.predict(sample)\n",
    "pred_species = [iris.target_names[p] for p in predictions]\n",
    "print('predictions: ', pred_species)"
   ]
  },
  {
   "cell_type": "markdown",
   "id": "5eeaef22",
   "metadata": {},
   "source": [
    "# video 305"
   ]
  },
  {
   "cell_type": "markdown",
   "id": "f8ae640f",
   "metadata": {},
   "source": [
    "Lo que hay que hacer, escargar este programa de predicciones en un archivo, para usarlo mas facil"
   ]
  },
  {
   "cell_type": "code",
   "execution_count": 29,
   "id": "4ea46cea",
   "metadata": {},
   "outputs": [
    {
     "data": {
      "text/plain": [
       "['mlbrain.joblib']"
      ]
     },
     "execution_count": 29,
     "metadata": {},
     "output_type": "execute_result"
    }
   ],
   "source": [
    "from joblib import dump, load\n",
    "dump(knn, 'mlbrain.joblib')"
   ]
  },
  {
   "cell_type": "markdown",
   "id": "73b62697",
   "metadata": {},
   "source": [
    "esto crea un archivo mlbrain.joblib en mi jupiter notebook"
   ]
  },
  {
   "cell_type": "code",
   "execution_count": 30,
   "id": "b844c2c2",
   "metadata": {},
   "outputs": [
    {
     "name": "stdout",
     "output_type": "stream",
     "text": [
      "predictions:  ['versicolor', 'virginica']\n"
     ]
    }
   ],
   "source": [
    "model = load('mlbrain.joblib')\n",
    "model.predict(X_test)\n",
    "sample = [[3,5,4,2], [2,3,5,4]]\n",
    "predictions = model.predict(sample)\n",
    "pred_species = [iris.target_names[p] for p in predictions]\n",
    "print('predictions: ', pred_species)"
   ]
  },
  {
   "cell_type": "markdown",
   "id": "cb3f90aa",
   "metadata": {},
   "source": [
    "de esta manera, el modelo es entrenado por el desarrollador, y al dispositivo al que se lo instala, solo lo usa. Para mejorarlo, el desarrollador lo mejora, lo entrena, y vuelve a hacer otro dump"
   ]
  },
  {
   "cell_type": "markdown",
   "id": "36dfdcbc",
   "metadata": {},
   "source": [
    "FIN DE LA SECCION\n",
    "ejemplo:\n",
    "https://github.com/aneagoie/ML-Notes/blob/master/iris.ipynb"
   ]
  },
  {
   "cell_type": "code",
   "execution_count": null,
   "id": "06bc6611",
   "metadata": {},
   "outputs": [],
   "source": []
  }
 ],
 "metadata": {
  "kernelspec": {
   "display_name": "Python 3 (ipykernel)",
   "language": "python",
   "name": "python3"
  },
  "language_info": {
   "codemirror_mode": {
    "name": "ipython",
    "version": 3
   },
   "file_extension": ".py",
   "mimetype": "text/x-python",
   "name": "python",
   "nbconvert_exporter": "python",
   "pygments_lexer": "ipython3",
   "version": "3.9.7"
  }
 },
 "nbformat": 4,
 "nbformat_minor": 5
}
